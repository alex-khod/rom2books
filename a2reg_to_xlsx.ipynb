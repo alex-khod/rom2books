{
 "cells": [
  {
   "cell_type": "code",
   "execution_count": null,
   "id": "dd199cae-0c73-48bd-b24f-6741973ec2d8",
   "metadata": {},
   "outputs": [],
   "source": [
    "%load_ext autoreload\n",
    "%autoreload 2\n",
    "\n",
    "from common import *\n",
    "\n",
    "graphics_res = Resources[\"graphics\"]\n",
    "object_registry = Resources.special('objects.reg').content"
   ]
  },
  {
   "cell_type": "code",
   "execution_count": null,
   "id": "ac968bd8-152a-43fb-b06a-ebe8f2505407",
   "metadata": {},
   "outputs": [],
   "source": [
    "scenario_res = Resources[\"scenario\"]\n",
    "world_res = Resources[\"world\"]\n",
    "main_res = Resources[\"main\"]"
   ]
  },
  {
   "cell_type": "code",
   "execution_count": null,
   "id": "66588665-dbd9-4e5a-ae3c-bc8b392342b0",
   "metadata": {},
   "outputs": [],
   "source": [
    "graphics_res = Resources['graphics']\n",
    "unit_registry = Resources.special(\"units.reg\").content\n",
    "# 64 goblin\n",
    "# 76 turtle"
   ]
  },
  {
   "cell_type": "code",
   "execution_count": null,
   "id": "2343c3f4-d5b7-4ebb-b7ed-42b4208cf4c5",
   "metadata": {},
   "outputs": [],
   "source": [
    "databin = Resources.special(\"data.bin\").content\n",
    "troll_id = databin.monsters_by_name[\"troll\"].type_id\n",
    "troll_record = unit_registry.units_by_id[troll_id]\n",
    "\n",
    "unit256 = Resources[\"graphics\", \"units\", troll_record['filename'] + \".256\"].content\n",
    "unit256[1].to_pil_image()"
   ]
  },
  {
   "cell_type": "code",
   "execution_count": null,
   "id": "4740925e-2c0a-451b-ae65-709f933ee53a",
   "metadata": {
    "tags": []
   },
   "outputs": [],
   "source": [
    "for path, node in unit_registry.root_descent():\n",
    "    pass\n",
    "    # print(path, node.name, node.value.value)"
   ]
  },
  {
   "cell_type": "code",
   "execution_count": null,
   "id": "97089a96-b646-40c4-ab11-fde73e298bb8",
   "metadata": {},
   "outputs": [],
   "source": [
    "graphics_res = Resources[\"graphics\"]\n",
    "object_registry = graphics_res[jn('objects','objects.reg')].content"
   ]
  },
  {
   "cell_type": "code",
   "execution_count": null,
   "id": "f5df1f3f-5787-49d0-8e5d-059477196f61",
   "metadata": {},
   "outputs": [],
   "source": [
    "class ObjectsDump:\n",
    "    name = 'objects'\n",
    "    \n",
    "    def __init__(self):        \n",
    "        object_registry = Resources.special('objects.reg').content\n",
    "        self.objects_by_id = object_registry.objects_by_id\n",
    "    \n",
    "    def data(self):    \n",
    "        header = ['id', 'desc', 'sprite_id', 'sprite', 'width','height','centerx','centery','image']\n",
    "        yield header\n",
    "        fields = [\"id\", \"desctext\", \"index\", \"filename\", \"width\", \"height\", \"centerx\", \"centery\"]\n",
    "        for oid, obj_record in self.objects_by_id.items():        \n",
    "            obj_file = obj_record['filename']\n",
    "            if 'fire' in obj_file:\n",
    "                continue                        \n",
    "            yield [obj_record[field] for field in fields]\n",
    "            \n",
    "    def sprites(self):                         \n",
    "        for oid, obj_record in self.objects_by_id.items():        \n",
    "            obj_file = obj_record['filename']\n",
    "            if 'fire' in obj_file:\n",
    "                continue\n",
    "            a256 = Resources[\"graphics\", \"objects\", obj_record['filename'] + '.256'].content\n",
    "            index = obj_record['index']\n",
    "            image = a256[index].to_pil_image()\n",
    "            yield image        \n",
    "    \n",
    "    @classmethod\n",
    "    def dump(cls, output_filename):\n",
    "        import openpyxl\n",
    "        from src import xlsx\n",
    "\n",
    "        wb = openpyxl.Workbook()\n",
    "        ws = wb.active\n",
    "\n",
    "        sheet = ObjectsSheet()\n",
    "\n",
    "        for row in sheet.data():        \n",
    "            ws.append(row)\n",
    "\n",
    "        #autofit columns\n",
    "        for col in ws.columns:    \n",
    "            max_width = max([len(str(cell.value)) for cell in col])\n",
    "            letter = col[0].column_letter\n",
    "            ws.column_dimensions[letter].width = 1 + max_width\n",
    "\n",
    "        xlsx.add_image_column(ws, sheet.sprites(), len(row) + 1)\n",
    "\n",
    "        # Save the file\n",
    "        wb.save(output_filename)\n",
    "        wb.close()\n",
    "        print('done')"
   ]
  },
  {
   "cell_type": "code",
   "execution_count": null,
   "id": "d783188e-0210-46f5-be52-51d8392ac32e",
   "metadata": {
    "tags": []
   },
   "outputs": [],
   "source": [
    "objs = ObjectsDump()\n",
    "#for im in objs.sprites():\n",
    "    #print(im.width)\n",
    "    \n",
    "plot.images_rect(list(objs.sprites()))"
   ]
  },
  {
   "cell_type": "code",
   "execution_count": null,
   "id": "c29cabb4-40bf-49b9-9a4d-f1a58bcd42bb",
   "metadata": {},
   "outputs": [],
   "source": [
    "# ObjectsDump.dump('objects_reg.xlsx')"
   ]
  },
  {
   "cell_type": "code",
   "execution_count": null,
   "id": "896802ff-cf47-4d0a-a230-767ca56969e9",
   "metadata": {},
   "outputs": [],
   "source": [
    "structure_registry = Resources.special(\"structures.reg\").content\n",
    "structure_registry.structures[1]"
   ]
  },
  {
   "cell_type": "code",
   "execution_count": null,
   "id": "e533f6c4-3107-4d4a-9cf6-e8533aa4177e",
   "metadata": {},
   "outputs": [],
   "source": [
    "class StructuresDump:\n",
    "    name = 'structures'    \n",
    "    \n",
    "    def __init__(self):        \n",
    "        structure_registry = Resources.special('structures.reg').content\n",
    "        self.structures = structure_registry.structures\n",
    "    \n",
    "    def data(self):    \n",
    "        header = ['id', 'desc', 'sprite_name', 'sprite', 'picture_name', 'picture']\n",
    "        yield header                \n",
    "        for obj in self.structures:\n",
    "            yield [obj['id'], obj['desctext'], obj['file'], '', obj['picture'], '']\n",
    "            \n",
    "    def sprites(self):                \n",
    "        for obj in self.structures:\n",
    "            a256 = Resources[\"graphics\", \"structures\", obj[\"filename\"] + \".256\"].content\n",
    "            w, h = obj['tilewidth'], obj['fullheight']                               \n",
    "            image = a256.to_tiles(w, h)\n",
    "            image = PIL.Image.fromarray(image)\n",
    "            yield image\n",
    "            \n",
    "    def pictures(self):        \n",
    "        import PIL\n",
    "        for obj in self.structures:                      \n",
    "            obj_file = obj['picture']\n",
    "            \n",
    "            res_path = jn('infowindow', obj['picture'] + '.bmp')\n",
    "            try:\n",
    "                bmp = Resources[\"graphics\", res_path].content\n",
    "                yield bmp\n",
    "            except KeyError:                \n",
    "                print(f\"Warning: {res_path} is not found\")\n",
    "                yield None       \n",
    "    \n",
    "    @classmethod\n",
    "    def dump(cls, output_filename):\n",
    "        import openpyxl\n",
    "\n",
    "        wb = openpyxl.Workbook()\n",
    "        ws = wb.active\n",
    "\n",
    "        sheet = cls()\n",
    "\n",
    "        for row in sheet.data():        \n",
    "            ws.append(row)\n",
    "\n",
    "        #autofit columns\n",
    "        for col in ws.columns:    \n",
    "            max_width = max([len(str(cell.value)) for cell in col])\n",
    "            letter = col[0].column_letter\n",
    "            ws.column_dimensions[letter].width = 1 + max_width\n",
    "\n",
    "        xlsx.add_image_column(ws, sheet.sprites(), 4)\n",
    "        xlsx.add_image_column(ws, sheet.pictures(), 6)\n",
    "    \n",
    "        # Save the file\n",
    "        wb.save(output_filename)\n",
    "        wb.close()\n",
    "        print('done')"
   ]
  },
  {
   "cell_type": "code",
   "execution_count": null,
   "id": "0184ec3c-79fb-4874-8579-baa84b8409cf",
   "metadata": {},
   "outputs": [],
   "source": [
    "# StructuresDump.dump('structures_reg.xlsx')"
   ]
  },
  {
   "cell_type": "code",
   "execution_count": null,
   "id": "0b4a1e57-05cc-4e5a-a9f5-5d34d7fa61c4",
   "metadata": {},
   "outputs": [],
   "source": [
    "from src.formats import registry\n",
    "jn = os.path.join\n",
    "npc_registry = Resources['scenario','npc.reg'].content\n",
    "for path, node in npc_registry.root_descent():\n",
    "    print(path, node.name, node.value.value)"
   ]
  },
  {
   "cell_type": "code",
   "execution_count": null,
   "id": "5743b5fd-10c7-4d5f-bcd4-31123f1da946",
   "metadata": {},
   "outputs": [],
   "source": [
    "ai_registry = Resources['world', 'data', 'ai.reg'].content\n",
    "for path, node in ai_registry.root_descent():\n",
    "    print(path, node.name, node.value.value)"
   ]
  },
  {
   "cell_type": "code",
   "execution_count": null,
   "id": "fd10cdfe-91e1-4a1a-9c82-07054d2fcd2a",
   "metadata": {},
   "outputs": [],
   "source": [
    "map_registry = Resources['world', 'data', 'map.reg'].content\n",
    "for path, node in map_registry.root_descent():\n",
    "    print(path, node.name, node.value.value)"
   ]
  }
 ],
 "metadata": {
  "kernelspec": {
   "display_name": "Python 3 (ipykernel)",
   "language": "python",
   "name": "python3"
  },
  "language_info": {
   "codemirror_mode": {
    "name": "ipython",
    "version": 3
   },
   "file_extension": ".py",
   "mimetype": "text/x-python",
   "name": "python",
   "nbconvert_exporter": "python",
   "pygments_lexer": "ipython3",
   "version": "3.7.7"
  }
 },
 "nbformat": 4,
 "nbformat_minor": 5
}
