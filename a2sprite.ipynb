{
 "cells": [
  {
   "cell_type": "code",
   "execution_count": null,
   "id": "631c5ae4-0c9a-4afa-a854-86610052caa2",
   "metadata": {
    "tags": []
   },
   "outputs": [],
   "source": [
    "%load_ext autoreload\n",
    "%autoreload 2\n",
    "\n",
    "from common import *"
   ]
  },
  {
   "cell_type": "code",
   "execution_count": null,
   "id": "bd2bad86-9aec-4559-a089-aa3f0ff35766",
   "metadata": {
    "tags": []
   },
   "outputs": [],
   "source": [
    "import PIL\n",
    "# load structure registry\n",
    "structure_registry = Resources.special(\"structures.reg\").content\n",
    "# select some structure\n",
    "str_record = structure_registry.structures[1]\n",
    "# load structure's 256 sprite\n",
    "a256 = Resources[\"graphics\", 'structures', str_record[\"filename\"] + '.256'].content\n",
    "# draw sprite by converting it to pil_image and passing as last command on the cell\n",
    "data = a256.to_tiles(3, 3)\n",
    "PIL.Image.fromarray(data)"
   ]
  },
  {
   "cell_type": "code",
   "execution_count": null,
   "id": "9cf76050-b59e-4a7f-b960-ea99eed886e0",
   "metadata": {
    "tags": []
   },
   "outputs": [],
   "source": [
    "#load dragon sprite\n",
    "monster_path = jn('graphics', 'units', 'monsters', 'dragon')\n",
    "a256 = Resources[jn(monster_path, 'sprites.256')].content\n",
    "#load palettes (internal to 256 + external 2, 3, 4)\n",
    "palettes = [a256.palette] + [Resources[jn(monster_path, \"palette%d.pal\" % level)].content for level in range(2,5)]\n",
    "# plot palettes in rectangles\n",
    "plot.images_rect([p.to_pil_image() for p in palettes], scale=2)"
   ]
  },
  {
   "cell_type": "code",
   "execution_count": null,
   "id": "ae55539d-25a9-479e-ad77-0e83fd48cfc3",
   "metadata": {},
   "outputs": [],
   "source": [
    "# draw first (a256[0]) frame of sprite, paletted by palette p\n",
    "plot.images_rect([a256[0].to_pil_image(p) for p in palettes], scale=2, labels=range(len(palettes)))"
   ]
  },
  {
   "cell_type": "code",
   "execution_count": null,
   "id": "dc9c98cd-671b-4d84-ab51-4a19ff414ef1",
   "metadata": {},
   "outputs": [],
   "source": [
    "a = 0\n",
    "unitreg = Resources.special(\"units.reg\").content\n",
    "units = unitreg.units_by_id\n",
    "\n",
    "for u in units.values():\n",
    "    u256 = Resources[\"graphics\", \"units\", u[\"filename\"] + '.256'].content\n",
    "    a += sum([f.width * f.height for f in u256])\n",
    "    # a += u['width'] * u[\"height\"] * u256.count\n",
    "a = a / 1024 / 1024 * 3\n",
    "print(f\"Total unit image size (RGB): {a:.2f} mb\")"
   ]
  },
  {
   "cell_type": "code",
   "execution_count": null,
   "id": "134aa0bc-a051-4bcd-b701-1f6f7fe8d5b9",
   "metadata": {},
   "outputs": [],
   "source": [
    "def save_sprites():\n",
    "    databin = Resources.special(\"data.bin\").content\n",
    "    unit_registry = Resources.special(\"units.reg\").content\n",
    "    monsters = [(m.name, m.type_id) for m in databin.monsters if '.' not in m.name]        \n",
    "    for mname, mtype in monsters:\n",
    "        print(mname)\n",
    "        units = unit_registry.units\n",
    "        if not mtype in units:\n",
    "            continue                    \n",
    "        unit = units[mtype]        \n",
    "        unit_sprite = Resources['graphics', 'units', unit['filename'] + '.256'].content\n",
    "        # draw images to plot\n",
    "        images = [unit_sprite.to_rgba(i) for i in range(unit_sprite.count)]        \n",
    "        plot.images_rect(images, 2, range(len(images)))\n",
    "        # create output directory\n",
    "        out_path = jn('output', 'monster_sprites', mname + '.png')     \n",
    "        os.makedirs(os.path.dirname(out_path), exist_ok=True)\n",
    "        # save plot to output\n",
    "        plot.plt.savefig(out_path)\n",
    "        plot.plt.close()\n",
    "        break\n",
    "        \n",
    "# export frame atlas for every monster in data.bin    \n",
    "# save_sprites()              "
   ]
  },
  {
   "cell_type": "code",
   "execution_count": null,
   "id": "cfd41ac5-aa40-4e82-b018-443d01050455",
   "metadata": {},
   "outputs": [],
   "source": [
    "DIRECTION_COUNT = 15\n",
    "\n",
    "from src.units.animation import UnitAnimationSequencer\n",
    "import itertools\n",
    "# 8 deaths\n",
    "# 8 bones    \n",
    "databin = Resources.special(\"data.bin\").content\n",
    "unit_registry =Resources.special(\"units.reg\").content\n",
    "#unitbin = databin.monsters_by_name['_2h_human_swordsman']\n",
    "unitbin = databin.monsters_by_name['troll']\n",
    "unitrecord = unit_registry.units_by_id[unitbin.type_id]\n",
    "unit256 = Resources[\"graphics\", 'units', unitrecord['filename'] + '.256'].content\n",
    "troll3_palette = Resources[\"graphics\", 'units', os.path.dirname(unitrecord['filename']) + \"\\\\palette3.pal\"].content\n",
    "unit256.resize((128,128))\n",
    "anim_seq = UnitAnimationSequencer(unit256, unitrecord)"
   ]
  },
  {
   "cell_type": "code",
   "execution_count": null,
   "id": "33fd1964-6cb3-418c-8cf6-f4e07f9ca853",
   "metadata": {},
   "outputs": [],
   "source": [
    "unit256"
   ]
  },
  {
   "cell_type": "code",
   "execution_count": null,
   "id": "46d004d8-99e9-49c4-a4a7-73b12968e25c",
   "metadata": {},
   "outputs": [],
   "source": [
    "frames = anim_seq.sequence(anim_seq.types.attack, 3)\n",
    "frames = [fr.to_pil_image(palette) for fr in frames]\n",
    "frames[0]\n",
    "frames[0].save(\"output\", \"troll_attac.gif\", save_all=True, background=0, transparency=0, disposal=2, loop=0, append_images=frames)"
   ]
  },
  {
   "cell_type": "code",
   "execution_count": null,
   "id": "98590355-331e-4a2e-aa6a-08dbe7e9e0c3",
   "metadata": {},
   "outputs": [],
   "source": [
    "frames = anim_seq.sequence(anim_seq.types.attack, 3)\n",
    "frames2 = []\n",
    "\n",
    "for fr in frames:    \n",
    "    for _ in range(3):\n",
    "        fr.set_x_flip(False)        \n",
    "        frames2.append(fr.to_pil_image(troll3_palette))                \n",
    "        fr.set_x_flip(True)        \n",
    "        frames2.append(fr.to_pil_image(troll3_palette))                \n",
    "frames2[0].save(\"output\", \"troll_dens.gif\", save_all=True, background=0, transparency=0, disposal=2, loop=0, append_images=frames2)"
   ]
  },
  {
   "cell_type": "code",
   "execution_count": null,
   "id": "e5410ed1-3209-4d45-95c3-c9a410bf5f1a",
   "metadata": {},
   "outputs": [],
   "source": [
    "plot.images_rect([x.to_pilimage() for x in anim.unit256][-16:])"
   ]
  },
  {
   "cell_type": "code",
   "execution_count": null,
   "id": "d1db5d5e-aca2-4999-ad12-023e570007a1",
   "metadata": {},
   "outputs": [],
   "source": [
    "anim.frameimages(atype, facing)"
   ]
  },
  {
   "cell_type": "code",
   "execution_count": null,
   "id": "cf2d0a90-5731-4f52-84a3-6e68e80814fd",
   "metadata": {},
   "outputs": [],
   "source": [
    "anim = AnimState(unit_registry.units_by_id[87])"
   ]
  },
  {
   "cell_type": "code",
   "execution_count": null,
   "id": "f7556947-f8a8-4537-b2dd-82a27e6a493b",
   "metadata": {
    "tags": []
   },
   "outputs": [],
   "source": [
    "unit_registry.units_by_id[3]"
   ]
  },
  {
   "cell_type": "code",
   "execution_count": null,
   "id": "1281ab43-5a97-4636-b32c-70a25aa087c8",
   "metadata": {},
   "outputs": [],
   "source": [
    "unit_registry.units_by_id[2]"
   ]
  },
  {
   "cell_type": "code",
   "execution_count": null,
   "id": "9e604179-274f-483c-8565-2dbb193aa90f",
   "metadata": {},
   "outputs": [],
   "source": [
    "images = [x.to_pilimage() for x in anim_seq.frames(anim_seq.types.move, 7)]\n",
    "plot.images_rect(images) "
   ]
  },
  {
   "cell_type": "code",
   "execution_count": null,
   "id": "75c2d93f-5c43-418d-8ae0-8304d5de0871",
   "metadata": {},
   "outputs": [],
   "source": [
    "images[0].save(\"gob_attac.gif\", save_all=True, background=0, transparency=0, disposal=2, loop=0, append_images=images)\n",
    "#frames[0].save(\"gob_move.gif\", save_all=True, background=0, transparency=0, disposal=2, loop=0, append_images=images[1:])"
   ]
  },
  {
   "cell_type": "code",
   "execution_count": null,
   "id": "deeac5c9-c440-4b2b-9e0a-8b01ea022904",
   "metadata": {},
   "outputs": [],
   "source": [
    "alist = Resources[\"graphics\", \"inventory\"]\n",
    "resname = alist[0].resource.name"
   ]
  },
  {
   "cell_type": "code",
   "execution_count": null,
   "id": "65cd28b2-d31b-4ac5-a79b-801461b0c9e4",
   "metadata": {},
   "outputs": [],
   "source": [
    "alist[0].resource.content[0].to_pilimage()"
   ]
  },
  {
   "cell_type": "code",
   "execution_count": null,
   "id": "2c4b439a-eada-4d6e-8de6-a2500e8f8682",
   "metadata": {},
   "outputs": [],
   "source": [
    "for header in alist:\n",
    "    Resources[\"graphics\", \"inventory\", header.resource.name]"
   ]
  },
  {
   "cell_type": "code",
   "execution_count": null,
   "id": "012a967d-8a23-4ec8-8a76-3ceacbee40ae",
   "metadata": {},
   "outputs": [],
   "source": [
    "utils.plot_images([a16.to_rgba(0)])"
   ]
  },
  {
   "cell_type": "code",
   "execution_count": null,
   "id": "1413265c-0aad-4e2a-a8aa-5c6625c71422",
   "metadata": {},
   "outputs": [],
   "source": [
    "a16.to_pilimage(0)"
   ]
  },
  {
   "cell_type": "code",
   "execution_count": null,
   "id": "a67a96eb-46d2-4eae-b3cf-1c986c59f644",
   "metadata": {},
   "outputs": [],
   "source": [
    "a16s = [A16(x).to_pilimage(0) for x in alist[16:64]]"
   ]
  },
  {
   "cell_type": "code",
   "execution_count": null,
   "id": "a6ded3a1-fc27-4d54-af3e-4f712dd6e595",
   "metadata": {},
   "outputs": [],
   "source": [
    "a16s = [sprites.A16(x)(0) for x in alist]"
   ]
  },
  {
   "cell_type": "code",
   "execution_count": null,
   "id": "2317f2d1-a23a-44dc-9c9c-de92f0eb494c",
   "metadata": {},
   "outputs": [],
   "source": [
    "utils.plot_images(a16s)"
   ]
  }
 ],
 "metadata": {
  "kernelspec": {
   "display_name": "Python 3 (ipykernel)",
   "language": "python",
   "name": "python3"
  },
  "language_info": {
   "codemirror_mode": {
    "name": "ipython",
    "version": 3
   },
   "file_extension": ".py",
   "mimetype": "text/x-python",
   "name": "python",
   "nbconvert_exporter": "python",
   "pygments_lexer": "ipython3",
   "version": "3.7.7"
  }
 },
 "nbformat": 4,
 "nbformat_minor": 5
}
