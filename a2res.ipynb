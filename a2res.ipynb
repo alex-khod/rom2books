{
 "cells": [
  {
   "cell_type": "code",
   "execution_count": null,
   "id": "69b66701-0dbf-4c30-a26b-1344257ba33e",
   "metadata": {},
   "outputs": [],
   "source": [
    "# !chcp 65001"
   ]
  },
  {
   "cell_type": "code",
   "execution_count": null,
   "id": "15df2e53-0d18-466b-9302-129900c71cfa",
   "metadata": {},
   "outputs": [],
   "source": [
    "%load_ext autoreload\n",
    "%autoreload 2\n",
    "\n",
    "from common import *\n",
    "from src.resources import get_rom2_path\n",
    "\n",
    "resfiles = list(filter(lambda x: os.path.splitext(x)[1] == '.res', os.listdir(get_rom2_path())))\n",
    "resfiles"
   ]
  },
  {
   "cell_type": "code",
   "execution_count": null,
   "id": "cb344750-f089-4d24-84cf-6631b5fef759",
   "metadata": {},
   "outputs": [],
   "source": [
    "from src.resources import Resources\n",
    "\n",
    "graphics_res = Resources[\"graphics\"]\n",
    "scenario_res = Resources[\"scenario\"]\n",
    "world_res = Resources[\"world\"]\n",
    "main_res = Resources[\"main\"]"
   ]
  },
  {
   "cell_type": "code",
   "execution_count": null,
   "id": "95b74b18-400b-4869-8c54-b56b13848a1c",
   "metadata": {
    "tags": []
   },
   "outputs": [],
   "source": [
    "from profilehooks import timecall\n",
    "\n",
    "@timecall\n",
    "def test():\n",
    "    list(graphics_res.list_files())\n",
    "    \n",
    "#test()"
   ]
  },
  {
   "cell_type": "code",
   "execution_count": null,
   "id": "dfa395e4-3185-4270-ae69-229799c68a20",
   "metadata": {
    "tags": []
   },
   "outputs": [],
   "source": [
    "graphics_files = [graphics_res[file] for file in list(graphics_res.list_files())]\n",
    "main_files = [main_res[file] for file in main_res.list_files()]\n",
    "main_files"
   ]
  },
  {
   "cell_type": "code",
   "execution_count": null,
   "id": "c11a8569-e688-430b-9756-9054b72cc0eb",
   "metadata": {
    "tags": []
   },
   "outputs": [],
   "source": [
    "main_res = Resources[\"main\"]\n",
    "a = list(main_res.walk_files())\n",
    "for path, name in a:\n",
    "    print(path, name)"
   ]
  }
 ],
 "metadata": {
  "kernelspec": {
   "display_name": "Python 3 (ipykernel)",
   "language": "python",
   "name": "python3"
  },
  "language_info": {
   "codemirror_mode": {
    "name": "ipython",
    "version": 3
   },
   "file_extension": ".py",
   "mimetype": "text/x-python",
   "name": "python",
   "nbconvert_exporter": "python",
   "pygments_lexer": "ipython3",
   "version": "3.7.7"
  }
 },
 "nbformat": 4,
 "nbformat_minor": 5
}
