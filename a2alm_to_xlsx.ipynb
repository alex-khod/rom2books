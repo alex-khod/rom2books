{
 "cells": [
  {
   "cell_type": "code",
   "execution_count": null,
   "id": "42ef6a9a-43f9-43c0-a71d-7709a77c7091",
   "metadata": {
    "tags": []
   },
   "outputs": [],
   "source": [
    "%load_ext autoreload\n",
    "%autoreload 2\n",
    "from common import *\n",
    "\n",
    "scenario_res = Resources.get(\"scenario\")\n",
    "utils.natural_sort(list(scenario_res.list_files()))[:10]"
   ]
  },
  {
   "cell_type": "code",
   "execution_count": null,
   "id": "58a1cdef-9ced-4093-89d6-c400ed59a561",
   "metadata": {},
   "outputs": [],
   "source": [
    "map_name = \"20.alm\"\n",
    "alm = scenario_res[map_name].content\n",
    "alm.width, alm.height"
   ]
  },
  {
   "cell_type": "code",
   "execution_count": null,
   "id": "a57ed226-9e69-4861-838f-027caded29ec",
   "metadata": {
    "tags": []
   },
   "outputs": [],
   "source": [
    "import numpy as np\n",
    "from PIL import Image\n",
    "\n",
    "def hate_map():\n",
    "    alm = Resources.from_file(\"data\", \"atest.alm\")\n",
    "    heights = alm[\"heights\"].body.heights\n",
    "    arr = np.array(heights, dtype='uint8').reshape((alm.width,alm.height))\n",
    "    arr = arr[8:16,8:16]\n",
    "    img = arr\n",
    "    #img = Image.fromarray(arr)\n",
    "    #img = img.resize((img.width*32, img.height*32), resample=Image.Resampling.BOX)\n",
    "    return img\n",
    "    \n",
    "for row in hate_map():\n",
    "    print(row)"
   ]
  },
  {
   "cell_type": "code",
   "execution_count": null,
   "id": "e87d9969-2013-4454-a8e0-a0f1a97b4f3d",
   "metadata": {},
   "outputs": [],
   "source": [
    "import numpy as np\n",
    "from PIL import Image\n",
    "\n",
    "heights = alm[alm.section.heights].body.heights\n",
    "arr = np.array(heights, dtype='uint8').reshape((alm.width,alm.height))\n",
    "arr = arr[8:-8,8:-8]\n",
    "img = Image.fromarray(arr)\n",
    "img"
   ]
  },
  {
   "cell_type": "code",
   "execution_count": null,
   "id": "47915240-4aeb-4c7d-8c06-aa7846d1f427",
   "metadata": {},
   "outputs": [],
   "source": [
    "list(Image.Resampling)"
   ]
  },
  {
   "cell_type": "code",
   "execution_count": null,
   "id": "3112bafc-ba02-4d83-bbbf-fa9089bf3af8",
   "metadata": {
    "tags": []
   },
   "outputs": [],
   "source": [
    "img.resize((img.width*32, img.height*32), resample=Image.Resampling.BOX).save(\"20.alm.bmp\")\n",
    "# img.resize((img.width*32, img.height*32), resample=Image.Resampling.LANCZOS).save(\"20.alm.bmp\")\n",
    "#img.save(\"20.alm.bmp\")"
   ]
  },
  {
   "cell_type": "code",
   "execution_count": null,
   "id": "a3a1b339-eeaf-49e9-8dff-945346d54790",
   "metadata": {},
   "outputs": [],
   "source": [
    "from src import xlsx\n",
    "\n",
    "alm = Resources.from_file(\"data\", \"atest.alm\")\n",
    "us = xlsx.UnitsSheet(alm)"
   ]
  },
  {
   "cell_type": "code",
   "execution_count": null,
   "id": "8491653a-6464-4164-af44-9df920d1bedb",
   "metadata": {},
   "outputs": [],
   "source": [
    "alm[\"units\"].body.units"
   ]
  },
  {
   "cell_type": "code",
   "execution_count": null,
   "id": "49ba1626-dd8d-4913-8f4a-af22cdc63e29",
   "metadata": {},
   "outputs": [],
   "source": [
    "alm[\"units\"].body.units[0].y >> 8"
   ]
  },
  {
   "cell_type": "code",
   "execution_count": null,
   "id": "3de4c7c9-d5ba-46bb-a38d-bf67c63300a0",
   "metadata": {
    "tags": []
   },
   "outputs": [],
   "source": [
    "dumpobj(alm[\"units\"].body.units[-1])"
   ]
  },
  {
   "cell_type": "code",
   "execution_count": null,
   "id": "8f1ac12d-0544-4d63-9dfb-7bc85f052f13",
   "metadata": {},
   "outputs": [],
   "source": [
    "from src import xlsx\n",
    "\n",
    "\"\"\"\n",
    "    Export these sheets to xlsx for every alm in scenario.res.\n",
    "\"\"\"\n",
    "sheet_cls = [xlsx.PlayersSheet, xlsx.StructuresSheet, xlsx.UnitsSheet, xlsx.ObjectsSheet, xlsx.SacksSheet, xlsx.TriggersSheet, xlsx.InstancesSheet, xlsx.ChecksSheet]\n",
    "start = 0\n",
    "scenario_res = Resources[\"scenario\"]\n",
    "for i, map_name in enumerate(list(scenario_res.list_files())[start:], start=start):\n",
    "    if not '.alm' in map_name:\n",
    "        continue\n",
    "    print(f\"#{i} {map_name} is processed\")\n",
    "    alm = scenario_res[map_name].content    \n",
    "    wb = xlsx.generate_workbook(alm, sheet_cls)\n",
    "    save_path = os.path.join(\"output\", \"excel\", f\"{map_name}({alm.width}x{alm.height}).xlsx\")\n",
    "    print(f\"saved to {save_path}\")\n",
    "    wb.save(save_path)"
   ]
  }
 ],
 "metadata": {
  "kernelspec": {
   "display_name": "Python 3 (ipykernel)",
   "language": "python",
   "name": "python3"
  },
  "language_info": {
   "codemirror_mode": {
    "name": "ipython",
    "version": 3
   },
   "file_extension": ".py",
   "mimetype": "text/x-python",
   "name": "python",
   "nbconvert_exporter": "python",
   "pygments_lexer": "ipython3",
   "version": "3.7.7"
  }
 },
 "nbformat": 4,
 "nbformat_minor": 5
}
