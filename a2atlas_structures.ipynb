{
 "cells": [
  {
   "cell_type": "code",
   "execution_count": null,
   "id": "4013fc1f-3a47-4069-a4d0-71978d15276e",
   "metadata": {},
   "outputs": [],
   "source": [
    "%load_ext autoreload\n",
    "%autoreload 2\n",
    "\n",
    "from common import *\n",
    "\n",
    "graphics_res = Resources[\"graphics\"]\n",
    "object_registry = graphics_res[jn('objects','objects.reg')].content"
   ]
  },
  {
   "cell_type": "code",
   "execution_count": null,
   "id": "481342a8-7919-4a76-bdd1-576966222626",
   "metadata": {},
   "outputs": [],
   "source": [
    "# crater id 117 has 16 tiles, tw=4, th=4, indestructible=1\n",
    "# some have indestructible=1"
   ]
  },
  {
   "cell_type": "code",
   "execution_count": null,
   "id": "3c6ae8e9-82f5-4e02-8232-6c443575fd71",
   "metadata": {},
   "outputs": [],
   "source": [
    "len(Resources[\"graphics\", \"objects\", \"iva1\", \"sprites.256\"].bytes)"
   ]
  },
  {
   "cell_type": "code",
   "execution_count": null,
   "id": "fb8fb124-7d48-4a2b-942b-ddea5588204e",
   "metadata": {},
   "outputs": [],
   "source": [
    "len(Resources[\"graphics\", \"objects\", \"bambuk1\", \"sprites.256\"].bytes)"
   ]
  },
  {
   "cell_type": "code",
   "execution_count": null,
   "id": "768f337d-025d-47f1-ae52-7bf858a1a836",
   "metadata": {},
   "outputs": [],
   "source": [
    "len(Resources[\"graphics\", \"objects\", \"bambuk1\", \"dead\", \"sprites.256\"].bytes)"
   ]
  },
  {
   "cell_type": "code",
   "execution_count": null,
   "id": "e8d36e65-882f-4bbd-b7b1-06210a5fd326",
   "metadata": {},
   "outputs": [],
   "source": [
    "str_record = structure_registry.structures_by_id[37]"
   ]
  },
  {
   "cell_type": "code",
   "execution_count": null,
   "id": "6ee314b2-6175-49e4-ad0b-aa029c7c4af4",
   "metadata": {
    "tags": []
   },
   "outputs": [],
   "source": [
    "structure_registry = Resources.special(\"structures.reg\").content\n",
    "structure_registry.structures[0]\n",
    "\n",
    "frames = []\n",
    "labels = []\n",
    "# for str_record in structure_registry.structures:        \n",
    "    print(str_record)\n",
    "    # filename = os.path.dirname(file).replace(\"structures\\\\\", \"\")        \n",
    "    filename= os.path.dirname(str_record[\"filename\"])\n",
    "    str_id = str_record[\"id\"]\n",
    "    a256 = Resources[\"graphics\", \"structures\", str_record[\"filename\"]+\".256\"].content            \n",
    "    tw, th = str_record[\"tilewidth\"], str_record[\"fullheight\"]\n",
    "    phases = str_record[\"phases\"]    \n",
    "    amask = str_record[\"animmask\"]\n",
    "    indestructible = 1 if \"indestructible\" in str_record else 0\n",
    "    animated_tiles = amask.count(\"+\")\n",
    "    print(a256[0:9])\n",
    "    print(len(a256), tw, th)        \n",
    "    \n",
    "    frames.append(a256.to_tiles(tw, th))\n",
    "    labels.append(f\"#{str_id}{filename}\")\n",
    "    dead_offset = len(a256) - tw * th\n",
    "    if dead_offset > 0:\n",
    "        frames.append(a256.to_tiles(tw, th, dead_offset))    \n",
    "        labels.append(f\"#{str_id} {filename} [dead]\")    \n",
    "    \n",
    "    # if filename==\"crater\":\n",
    "        # break\n",
    "     \n",
    "    # assert len(a256) == tw * th * (2) + (animated_tiles * (phases-1))    "
   ]
  },
  {
   "cell_type": "code",
   "execution_count": null,
   "id": "b5e182a9-d973-4a38-8a08-4db71403e047",
   "metadata": {},
   "outputs": [],
   "source": [
    "plot.images_rect(frames, scale=3, labels=labels)\n",
    "plot.plt.savefig(\"structures.jpg\")"
   ]
  }
 ],
 "metadata": {
  "kernelspec": {
   "display_name": "Python 3 (ipykernel)",
   "language": "python",
   "name": "python3"
  },
  "language_info": {
   "codemirror_mode": {
    "name": "ipython",
    "version": 3
   },
   "file_extension": ".py",
   "mimetype": "text/x-python",
   "name": "python",
   "nbconvert_exporter": "python",
   "pygments_lexer": "ipython3",
   "version": "3.7.7"
  }
 },
 "nbformat": 4,
 "nbformat_minor": 5
}
