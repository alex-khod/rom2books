{
 "cells": [
  {
   "cell_type": "code",
   "execution_count": null,
   "id": "035fd70a-5b19-4c0b-9b59-17b3668a0eac",
   "metadata": {},
   "outputs": [],
   "source": [
    "%load_ext autoreload\n",
    "%autoreload 2\n",
    "\n",
    "from common import *\n",
    "\n",
    "alm = Resources[\"scenario\", \"10.alm\"].content\n",
    "alm_test = Resources.from_file(\"data\", \"atest.alm\")"
   ]
  },
  {
   "cell_type": "code",
   "execution_count": null,
   "id": "4b30cd9a-a7fc-4b85-8af4-812e510f4d9e",
   "metadata": {},
   "outputs": [],
   "source": [
    "# load tilemaps\n",
    "import numpy as np\n",
    "from src.formats import sprites\n",
    "\n",
    "tilemap_path = (\"graphics\", \"terrain\")\n",
    "tilemap_list = Resources[tilemap_path]\n",
    "tilemaps = [x.record.content for x in tilemap_list]\n",
    "tilemaps = [x.convert(\"RGB\") for x in tilemaps]\n",
    "array_tilemaps = [np.array(x) for x in tilemaps]"
   ]
  },
  {
   "cell_type": "code",
   "execution_count": null,
   "id": "490a3327-36cb-46ae-8c62-555552c2abe7",
   "metadata": {},
   "outputs": [],
   "source": [
    "TILE_COUNT = 24\n",
    "w, h = alm.width, alm.height\n",
    "display = np.zeros((TILE_COUNT * 32, TILE_COUNT * 32, 3), dtype=\"uint8\")\n",
    "x0 = 8\n",
    "y0 = 8\n",
    "\n",
    "for y in range(TILE_COUNT):\n",
    "    for x in range(TILE_COUNT):                         \n",
    "        tile_id = alm[\"tiles\"].body.tiles[(y+y0) * w + x + x0].tile_id                                 \n",
    "        col_id = tile_id >> 4\n",
    "        row_id = tile_id & 0xF\n",
    "        tile_image = array_tilemaps[col_id][row_id * 32:(row_id + 1) * 32]\n",
    "        display[y*32:(y+1)*32, x*32:(x+1)*32] = tile_image\n",
    "sprites.PILImage.fromarray(display)"
   ]
  },
  {
   "cell_type": "code",
   "execution_count": null,
   "id": "f1a3ca22-a529-41cb-a773-5379ddd4654f",
   "metadata": {},
   "outputs": [],
   "source": [
    "TILE_SIZE =  32\n",
    "EXTRUDE_BORDER = 1\n",
    "\n",
    "border = EXTRUDE_BORDER\n",
    "b, ts = border, TILE_SIZE\n",
    "tsb, w = ts + b, ts + b * 2\n",
    "\n",
    "terrain_stripe_list = Resources[\"graphics\", \"terrain\"]\n",
    "stripes = [x.record.content for x in terrain_stripe_list]\n",
    "max_h = max([x.height for x in stripes])\n",
    "display = np.zeros((max_h//ts * w, 53 * w, 3), dtype='uint8')\n",
    "\n",
    "def extrude_stripe(stripe, border=1):\n",
    "    b, ts = border, TILE_SIZE\n",
    "    tsb, w = ts + b, ts + b * 2\n",
    "\n",
    "    arr = np.array(stripe.convert(\"RGB\"))\n",
    "    h = arr.shape[0]\n",
    "    stripe_buff = np.zeros((w * h // ts, w, 3), dtype='uint8')\n",
    "    buff = np.zeros((w, w, 3), dtype='uint8')\n",
    "    for j in range(h // TILE_SIZE):\n",
    "        buff[b:tsb, b:tsb] = arr[j * ts:(j + 1) * ts]\n",
    "        buff[0:b, b:tsb] = arr[j * ts:j * ts + 1]\n",
    "        buff[tsb:w, b:tsb] = arr[(j + 1) * ts - 1:(j + 1) * ts]\n",
    "        buff[b:tsb, 0:b] = arr[j * ts:(j + 1) * ts, 0:1]\n",
    "        buff[b:tsb, tsb:w] = arr[j * ts:(j + 1) * ts, ts - 1:ts]\n",
    "\n",
    "        stripe_buff[j * w:(j + 1) * w] = buff\n",
    "    return stripe_buff\n",
    "\n",
    "# for i, stripe in enumerate(stripes[:16]):    \n",
    "for i, stripe in enumerate(stripes):    \n",
    "    stripe = extrude_stripe(stripe, EXTRUDE_BORDER)\n",
    "    h = stripe.shape[0]    \n",
    "    display[0:h, i * w: (i+1) * w] = stripe\n",
    "    \n",
    "img = sprites.PILImage.fromarray(display)\n",
    "img\n",
    "#img.save(\"terrain.png\")"
   ]
  },
  {
   "cell_type": "code",
   "execution_count": null,
   "id": "23e1fa5b-b866-4e04-84b0-65e2cff5445a",
   "metadata": {},
   "outputs": [],
   "source": [
    "img.width * img.height * 3 / 1024 / 1024"
   ]
  },
  {
   "cell_type": "code",
   "execution_count": null,
   "id": "c6636962-b181-4a89-aacf-f3c14c5fe6c2",
   "metadata": {},
   "outputs": [],
   "source": [
    "img = img.quantize()"
   ]
  },
  {
   "cell_type": "code",
   "execution_count": null,
   "id": "513c5180-9d41-4fc9-836f-42ba7a6680d7",
   "metadata": {
    "tags": []
   },
   "outputs": [],
   "source": [
    "img.palette.colors"
   ]
  },
  {
   "cell_type": "code",
   "execution_count": null,
   "id": "ececc7f6-9e27-4d01-abf1-0cabb17a2d47",
   "metadata": {},
   "outputs": [],
   "source": [
    "stripe_img = sprites.PILImage.fromarray(stripe)\n",
    "len(stripe_img.convert(\"RGB\").tobytes())"
   ]
  }
 ],
 "metadata": {
  "kernelspec": {
   "display_name": "Python 3 (ipykernel)",
   "language": "python",
   "name": "python3"
  },
  "language_info": {
   "codemirror_mode": {
    "name": "ipython",
    "version": 3
   },
   "file_extension": ".py",
   "mimetype": "text/x-python",
   "name": "python",
   "nbconvert_exporter": "python",
   "pygments_lexer": "ipython3",
   "version": "3.7.7"
  }
 },
 "nbformat": 4,
 "nbformat_minor": 5
}
