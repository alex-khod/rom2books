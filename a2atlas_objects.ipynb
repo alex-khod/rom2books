{
 "cells": [
  {
   "cell_type": "code",
   "execution_count": null,
   "id": "3977e3e8-2268-4d67-902f-3b7803996158",
   "metadata": {},
   "outputs": [],
   "source": [
    "%load_ext autoreload\n",
    "%autoreload 2\n",
    "\n",
    "from common import *\n",
    "\n",
    "graphics_res = Resources[\"graphics\"]\n",
    "object_registry = graphics_res[jn('objects','objects.reg')].content"
   ]
  },
  {
   "cell_type": "code",
   "execution_count": null,
   "id": "87bf5fe4-fbc2-4066-bd3b-4870511572e5",
   "metadata": {},
   "outputs": [],
   "source": [
    "all_files = list(Resources[\"graphics\"].list_files())\n",
    "object_files = list(filter(lambda x : x.startswith(\"objects\"), all_files))\n",
    "sprites_files = list(filter(lambda x : x.endswith(\"sprites.256\"), object_files))"
   ]
  },
  {
   "cell_type": "code",
   "execution_count": null,
   "id": "e83c1dc2-d2ab-4e0c-a678-e227f7a7bd5d",
   "metadata": {
    "tags": []
   },
   "outputs": [],
   "source": [
    "frames = []\n",
    "labels = []\n",
    "for file in sprites_files:    \n",
    "    filename = os.path.dirname(file).replace(\"objects\\\\\", \"\")    \n",
    "    a256 = Resources[\"graphics\", file].content        \n",
    "    for i, frame in enumerate(a256):\n",
    "        print(i, frame)\n",
    "        frames.append(frame.to_rgba())\n",
    "        labels.append(f\"{filename}#{i}\")"
   ]
  },
  {
   "cell_type": "code",
   "execution_count": null,
   "id": "a59eeb67-b6ec-4246-ba65-33ddb9051bb6",
   "metadata": {},
   "outputs": [],
   "source": [
    "plot.images_rect(frames, scale=2, labels=labels)\n",
    "plot.plt.savefig(\"objects.jpg\")"
   ]
  }
 ],
 "metadata": {
  "kernelspec": {
   "display_name": "Python 3 (ipykernel)",
   "language": "python",
   "name": "python3"
  },
  "language_info": {
   "codemirror_mode": {
    "name": "ipython",
    "version": 3
   },
   "file_extension": ".py",
   "mimetype": "text/x-python",
   "name": "python",
   "nbconvert_exporter": "python",
   "pygments_lexer": "ipython3",
   "version": "3.7.7"
  }
 },
 "nbformat": 4,
 "nbformat_minor": 5
}
